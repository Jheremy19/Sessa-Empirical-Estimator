import pandas as pd
import numpy as np
import matplotlib.pyplot as plt
import seaborn as sns
from scipy.stats import cumfreq
from sklearn.cluster import KMeans
from sklearn.preprocessing import StandardScaler

def compute_ecdf(data, column):
    """Compute the empirical cumulative distribution function (ECDF)."""
    values = np.sort(data[column])
    n = values.size
    y = np.arange(1, n + 1) / n
    return values, y

def filter_ecdf(data, column, threshold=0.8):
    """Filter the ECDF to retain only the first 80% of the distribution."""
    values, y = compute_ecdf(data, column)
    cutoff = np.percentile(values, threshold * 100)
    return data[data[column] <= cutoff]

def apply_kmeans_clustering(data, column, n_clusters=3):
    """Apply K-Means clustering to the event interval column."""
    scaler = StandardScaler()
    scaled_data = scaler.fit_transform(data[[column]])
    
    # Determine optimal clusters using silhouette analysis (or set manually)
    kmeans = KMeans(n_clusters=n_clusters, random_state=42, n_init=10)
    data['Cluster'] = kmeans.fit_predict(scaled_data)
    
    return data, kmeans

def sessa_empirical_estimator(data):
    """Main function implementing the SEE algorithm."""
    data = data.sort_values(['patient_id', 'event_date'])
    data['prev_event_date'] = data.groupby('patient_id')['event_date'].shift(1)
    data.dropna(inplace=True)
    
    data['event_interval'] = (data['event_date'] - data['prev_event_date']).dt.days
    
    # Retain only 80% of the ECDF
    filtered_data = filter_ecdf(data, 'event_interval')
    
    # Apply K-Means clustering
    clustered_data, model = apply_kmeans_clustering(filtered_data, 'event_interval')
    
    # Compute median duration per cluster
    cluster_medians = clustered_data.groupby('Cluster')['event_interval'].median()
    
    # Assign computed durations back to original data
    data = data.merge(cluster_medians.rename('computed_duration'), on='Cluster', how='left')
    
    return data

# Example usage
# df = pd.read_csv('your_data.csv', parse_dates=['event_date'])
# result = sessa_empirical_estimator(df)
# print(result.head())
