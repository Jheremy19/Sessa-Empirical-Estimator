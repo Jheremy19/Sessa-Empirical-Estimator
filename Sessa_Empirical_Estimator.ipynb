{
 "cells": [
  {
   "cell_type": "code",
   "execution_count": null,
   "id": "71d1c5a5",
   "metadata": {},
   "outputs": [],
   "source": [
    "import pandas as pd\n",
    "import numpy as np\n",
    "import matplotlib.pyplot as plt\n",
    "import seaborn as sns\n",
    "from scipy.stats import cumfreq\n",
    "from sklearn.cluster import KMeans\n",
    "from sklearn.preprocessing import StandardScaler"
   ]
  },
  {
   "cell_type": "code",
   "execution_count": null,
   "id": "dfdc371f",
   "metadata": {},
   "outputs": [],
   "source": [
    "def compute_ecdf(data, column):\n",
    "    \"\"\"Compute the empirical cumulative distribution function (ECDF).\"\"\"\n",
    "    values = np.sort(data[column])\n",
    "    n = values.size\n",
    "    y = np.arange(1, n + 1) / n\n",
    "    return values, y"
   ]
  },
  {
   "cell_type": "code",
   "execution_count": null,
   "id": "a76842e3",
   "metadata": {},
   "outputs": [],
   "source": [
    "def filter_ecdf(data, column, threshold=0.8):\n",
    "    \"\"\"Filter the ECDF to retain only the first 80% of the distribution.\"\"\"\n",
    "    values, y = compute_ecdf(data, column)\n",
    "    cutoff = np.percentile(values, threshold * 100)\n",
    "    return data[data[column] <= cutoff]"
   ]
  },
  {
   "cell_type": "code",
   "execution_count": null,
   "id": "8220ebbe",
   "metadata": {},
   "outputs": [],
   "source": [
    "def apply_kmeans_clustering(data, column, n_clusters=3):\n",
    "    \"\"\"Apply K-Means clustering to the event interval column.\"\"\"\n",
    "    scaler = StandardScaler()\n",
    "    scaled_data = scaler.fit_transform(data[[column]])\n",
    "    \n",
    "    # Determine optimal clusters using silhouette analysis (or set manually)\n",
    "    kmeans = KMeans(n_clusters=n_clusters, random_state=42, n_init=10)\n",
    "    data['Cluster'] = kmeans.fit_predict(scaled_data)\n",
    "    \n",
    "    return data, kmeans"
   ]
  },
  {
   "cell_type": "code",
   "execution_count": null,
   "id": "8d2868ec",
   "metadata": {},
   "outputs": [],
   "source": [
    "def compute_median_duration_per_cluster(data):\n",
    "    \"\"\"Compute median duration per cluster.\"\"\"\n",
    "    return data.groupby('Cluster')['event_interval'].median()"
   ]
  },
  {
   "cell_type": "code",
   "execution_count": null,
   "id": "b6407fdc",
   "metadata": {},
   "outputs": [],
   "source": [
    "def plot_results(data):\n",
    "    \"\"\"Generate plots to visualize the clustering and ECDF.\"\"\"\n",
    "    plt.figure(figsize=(12, 5))\n",
    "    \n",
    "    # ECDF Plot\n",
    "    plt.subplot(1, 2, 1)\n",
    "    values, y = compute_ecdf(data, 'event_interval')\n",
    "    plt.plot(values, y, marker='.', linestyle='none')\n",
    "    plt.xlabel('Event Interval (days)')\n",
    "    plt.ylabel('ECDF')\n",
    "    plt.title('Empirical CDF of Event Intervals')\n",
    "    \n",
    "    # Clustering Plot\n",
    "    plt.subplot(1, 2, 2)\n",
    "    sns.boxplot(x='Cluster', y='event_interval', data=data)\n",
    "    plt.xlabel('Cluster')\n",
    "    plt.ylabel('Event Interval (days)')\n",
    "    plt.title('K-Means Clustering Results')\n",
    "    \n",
    "    plt.tight_layout()\n",
    "    plt.show()"
   ]
  },
  {
   "cell_type": "code",
   "execution_count": null,
   "id": "48d5b3bc",
   "metadata": {},
   "outputs": [],
   "source": [
    "def sessa_empirical_estimator(data):\n",
    "    \"\"\"Main function implementing the SEE algorithm.\"\"\"\n",
    "    data = data.sort_values(['patient_id', 'event_date'])\n",
    "    data['prev_event_date'] = data.groupby('patient_id')['event_date'].shift(1)\n",
    "    data.dropna(inplace=True)\n",
    "    \n",
    "    data['event_interval'] = (data['event_date'] - data['prev_event_date']).dt.days\n",
    "    \n",
    "    # Retain only 80% of the ECDF\n",
    "    filtered_data = filter_ecdf(data, 'event_interval')\n",
    "    \n",
    "    # Apply K-Means clustering\n",
    "    clustered_data, model = apply_kmeans_clustering(filtered_data, 'event_interval')\n",
    "    \n",
    "    # Compute median duration per cluster\n",
    "    cluster_medians = compute_median_duration_per_cluster(clustered_data)\n",
    "    \n",
    "    # Assign computed durations back to original data\n",
    "    data = data.merge(cluster_medians.rename('computed_duration'), on='Cluster', how='left')\n",
    "    \n",
    "    # Plot results\n",
    "    plot_results(data)\n",
    "    \n",
    "    return data"
   ]
  },
  {
   "cell_type": "code",
   "execution_count": null,
   "id": "83583c5d",
   "metadata": {},
   "outputs": [],
   "source": [
    "# Example usage\n",
    "# df = pd.read_csv('your_data.csv', parse_dates=['event_date'])\n",
    "# result = sessa_empirical_estimator(df)\n",
    "# print(result.head())"
   ]
  }
 ],
 "metadata": {},
 "nbformat": 4,
 "nbformat_minor": 5
}
